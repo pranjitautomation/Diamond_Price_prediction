{
 "cells": [
  {
   "cell_type": "code",
   "execution_count": 11,
   "metadata": {},
   "outputs": [],
   "source": [
    "l = [1, 2 , 3, 4, 5]\n",
    "m = []\n",
    "for i in range(len(l)-1, -1, -1):\n",
    "    m.append(l[i])"
   ]
  },
  {
   "cell_type": "code",
   "execution_count": 12,
   "metadata": {},
   "outputs": [
    {
     "data": {
      "text/plain": [
       "[5, 4, 3, 2, 1]"
      ]
     },
     "execution_count": 12,
     "metadata": {},
     "output_type": "execute_result"
    }
   ],
   "source": [
    "m"
   ]
  },
  {
   "cell_type": "code",
   "execution_count": 37,
   "metadata": {},
   "outputs": [],
   "source": [
    "def armstrong(number):\n",
    "    # l = len(str(no))\n",
    "    no = number\n",
    "    digits = []\n",
    "    i  = 0\n",
    "    while len(str(no)) >1:\n",
    "        rem = no%10\n",
    "        digits.append(rem)\n",
    "        \n",
    "        no = no//10\n",
    "    digits.append(no)\n",
    "    print(digits)\n",
    "    sum = 0\n",
    "    for digit in digits:\n",
    "        sum = sum + digit**len(str(number))\n",
    "        print(sum)\n",
    "    print(sum)\n",
    "    if sum == number:\n",
    "        print('Its an armstrong NO')\n",
    "\n",
    "    else:\n",
    "        print('Its not an armstrong NO')"
   ]
  },
  {
   "cell_type": "code",
   "execution_count": 38,
   "metadata": {},
   "outputs": [
    {
     "name": "stdout",
     "output_type": "stream",
     "text": [
      "[3, 5, 1]\n",
      "27\n",
      "152\n",
      "153\n",
      "153\n",
      "Its an armstrong NO\n"
     ]
    }
   ],
   "source": [
    "armstrong(153)"
   ]
  }
 ],
 "metadata": {
  "kernelspec": {
   "display_name": "Python 3",
   "language": "python",
   "name": "python3"
  },
  "language_info": {
   "codemirror_mode": {
    "name": "ipython",
    "version": 3
   },
   "file_extension": ".py",
   "mimetype": "text/x-python",
   "name": "python",
   "nbconvert_exporter": "python",
   "pygments_lexer": "ipython3",
   "version": "3.10.5"
  },
  "orig_nbformat": 4
 },
 "nbformat": 4,
 "nbformat_minor": 2
}
